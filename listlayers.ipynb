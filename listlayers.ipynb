{
 "cells": [
  {
   "cell_type": "code",
   "execution_count": 1,
   "metadata": {
    "collapsed": true
   },
   "outputs": [],
   "source": [
    "# Import stuff\n",
    "import dream"
   ]
  },
  {
   "cell_type": "markdown",
   "metadata": {},
   "source": [
    "Edit this path for the correct net"
   ]
  },
  {
   "cell_type": "code",
   "execution_count": 2,
   "metadata": {
    "collapsed": true
   },
   "outputs": [],
   "source": [
    "model_path = '../caffe/models/bvlc_googlenet/bvlc_googlenet.caffemodel'"
   ]
  },
  {
   "cell_type": "code",
   "execution_count": 3,
   "metadata": {
    "collapsed": false
   },
   "outputs": [
    {
     "name": "stdout",
     "output_type": "stream",
     "text": [
      "data\n",
      "conv1/7x7_s2\n",
      "pool1/3x3_s2\n",
      "pool1/norm1\n",
      "conv2/3x3_reduce\n",
      "conv2/3x3\n",
      "conv2/norm2\n",
      "pool2/3x3_s2\n",
      "pool2/3x3_s2_pool2/3x3_s2_0_split_0\n",
      "pool2/3x3_s2_pool2/3x3_s2_0_split_1\n",
      "pool2/3x3_s2_pool2/3x3_s2_0_split_2\n",
      "pool2/3x3_s2_pool2/3x3_s2_0_split_3\n",
      "inception_3a/1x1\n",
      "inception_3a/3x3_reduce\n",
      "inception_3a/3x3\n",
      "inception_3a/5x5_reduce\n",
      "inception_3a/5x5\n",
      "inception_3a/pool\n",
      "inception_3a/pool_proj\n",
      "inception_3a/output\n",
      "inception_3a/output_inception_3a/output_0_split_0\n",
      "inception_3a/output_inception_3a/output_0_split_1\n",
      "inception_3a/output_inception_3a/output_0_split_2\n",
      "inception_3a/output_inception_3a/output_0_split_3\n",
      "inception_3b/1x1\n",
      "inception_3b/3x3_reduce\n",
      "inception_3b/3x3\n",
      "inception_3b/5x5_reduce\n",
      "inception_3b/5x5\n",
      "inception_3b/pool\n",
      "inception_3b/pool_proj\n",
      "inception_3b/output\n",
      "pool3/3x3_s2\n",
      "pool3/3x3_s2_pool3/3x3_s2_0_split_0\n",
      "pool3/3x3_s2_pool3/3x3_s2_0_split_1\n",
      "pool3/3x3_s2_pool3/3x3_s2_0_split_2\n",
      "pool3/3x3_s2_pool3/3x3_s2_0_split_3\n",
      "inception_4a/1x1\n",
      "inception_4a/3x3_reduce\n",
      "inception_4a/3x3\n",
      "inception_4a/5x5_reduce\n",
      "inception_4a/5x5\n",
      "inception_4a/pool\n",
      "inception_4a/pool_proj\n",
      "inception_4a/output\n",
      "inception_4a/output_inception_4a/output_0_split_0\n",
      "inception_4a/output_inception_4a/output_0_split_1\n",
      "inception_4a/output_inception_4a/output_0_split_2\n",
      "inception_4a/output_inception_4a/output_0_split_3\n",
      "inception_4b/1x1\n",
      "inception_4b/3x3_reduce\n",
      "inception_4b/3x3\n",
      "inception_4b/5x5_reduce\n",
      "inception_4b/5x5\n",
      "inception_4b/pool\n",
      "inception_4b/pool_proj\n",
      "inception_4b/output\n",
      "inception_4b/output_inception_4b/output_0_split_0\n",
      "inception_4b/output_inception_4b/output_0_split_1\n",
      "inception_4b/output_inception_4b/output_0_split_2\n",
      "inception_4b/output_inception_4b/output_0_split_3\n",
      "inception_4c/1x1\n",
      "inception_4c/3x3_reduce\n",
      "inception_4c/3x3\n",
      "inception_4c/5x5_reduce\n",
      "inception_4c/5x5\n",
      "inception_4c/pool\n",
      "inception_4c/pool_proj\n",
      "inception_4c/output\n",
      "inception_4c/output_inception_4c/output_0_split_0\n",
      "inception_4c/output_inception_4c/output_0_split_1\n",
      "inception_4c/output_inception_4c/output_0_split_2\n",
      "inception_4c/output_inception_4c/output_0_split_3\n",
      "inception_4d/1x1\n",
      "inception_4d/3x3_reduce\n",
      "inception_4d/3x3\n",
      "inception_4d/5x5_reduce\n",
      "inception_4d/5x5\n",
      "inception_4d/pool\n",
      "inception_4d/pool_proj\n",
      "inception_4d/output\n",
      "inception_4d/output_inception_4d/output_0_split_0\n",
      "inception_4d/output_inception_4d/output_0_split_1\n",
      "inception_4d/output_inception_4d/output_0_split_2\n",
      "inception_4d/output_inception_4d/output_0_split_3\n",
      "inception_4e/1x1\n",
      "inception_4e/3x3_reduce\n",
      "inception_4e/3x3\n",
      "inception_4e/5x5_reduce\n",
      "inception_4e/5x5\n",
      "inception_4e/pool\n",
      "inception_4e/pool_proj\n",
      "inception_4e/output\n",
      "pool4/3x3_s2\n",
      "pool4/3x3_s2_pool4/3x3_s2_0_split_0\n",
      "pool4/3x3_s2_pool4/3x3_s2_0_split_1\n",
      "pool4/3x3_s2_pool4/3x3_s2_0_split_2\n",
      "pool4/3x3_s2_pool4/3x3_s2_0_split_3\n",
      "inception_5a/1x1\n",
      "inception_5a/3x3_reduce\n",
      "inception_5a/3x3\n",
      "inception_5a/5x5_reduce\n",
      "inception_5a/5x5\n",
      "inception_5a/pool\n",
      "inception_5a/pool_proj\n",
      "inception_5a/output\n",
      "inception_5a/output_inception_5a/output_0_split_0\n",
      "inception_5a/output_inception_5a/output_0_split_1\n",
      "inception_5a/output_inception_5a/output_0_split_2\n",
      "inception_5a/output_inception_5a/output_0_split_3\n",
      "inception_5b/1x1\n",
      "inception_5b/3x3_reduce\n",
      "inception_5b/3x3\n",
      "inception_5b/5x5_reduce\n",
      "inception_5b/5x5\n",
      "inception_5b/pool\n",
      "inception_5b/pool_proj\n",
      "inception_5b/output\n",
      "pool5/7x7_s1\n",
      "loss3/classifier\n",
      "prob\n"
     ]
    }
   ],
   "source": [
    "# Print layers\n",
    "net = dream.load_net(model_path)\n",
    "for layer in net.blobs.keys():\n",
    "    print layer"
   ]
  },
  {
   "cell_type": "code",
   "execution_count": null,
   "metadata": {
    "collapsed": true
   },
   "outputs": [],
   "source": []
  }
 ],
 "metadata": {
  "kernelspec": {
   "display_name": "Python 2",
   "language": "python",
   "name": "python2"
  },
  "language_info": {
   "codemirror_mode": {
    "name": "ipython",
    "version": 2
   },
   "file_extension": ".py",
   "mimetype": "text/x-python",
   "name": "python",
   "nbconvert_exporter": "python",
   "pygments_lexer": "ipython2",
   "version": "2.7.6"
  }
 },
 "nbformat": 4,
 "nbformat_minor": 0
}
